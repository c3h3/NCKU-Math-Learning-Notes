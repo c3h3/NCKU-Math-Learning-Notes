{
 "metadata": {
  "name": "",
  "signature": "sha256:618f5ffd0bafc3a8b75e8dcb7d6cd9c0db5b900e4d20b557aa0a2eac155caf0b"
 },
 "nbformat": 3,
 "nbformat_minor": 0,
 "worksheets": [
  {
   "cells": [
    {
     "cell_type": "markdown",
     "metadata": {},
     "source": [
      "# \u5982\u4f55\u5728 ipynb \u4e2d\u7684 markdown black \u4e2d\u63d2\u5165\u5716\u7247\u7684\u8a9e\u6cd5 ?"
     ]
    },
    {
     "cell_type": "markdown",
     "metadata": {},
     "source": [
      "![\u63d2\u5716\u7bc4\u4f8b](sample_fig.jpg)"
     ]
    },
    {
     "cell_type": "code",
     "collapsed": false,
     "input": [],
     "language": "python",
     "metadata": {},
     "outputs": []
    }
   ],
   "metadata": {}
  }
 ]
}