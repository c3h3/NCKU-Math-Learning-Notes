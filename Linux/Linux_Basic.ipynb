{
 "metadata": {
  "name": ""
 },
 "nbformat": 3,
 "nbformat_minor": 0,
 "worksheets": [
  {
   "cells": [
    {
     "cell_type": "markdown",
     "metadata": {},
     "source": [
      "#-bashrc script()\n",
      "\u5e7e\u500b\u65b9\u4fbf\u597d\u7528\u7684bashrc command\n",
      "\n",
      "##1.\u7d81\u6b77\u53f2\u641c\u5c0b\u6309\u9375\n",
      "    bind '\"\\x1b\\x5b\\x41\":history-search-backward' \n",
      "    bind '\"\\x1b\\x5b\\x42\":history-search-forward'"
     ]
    },
    {
     "cell_type": "markdown",
     "metadata": {},
     "source": [
      "#-Vim bash script\n",
      "##1.Fix Vim Makefile Problem\n",
      "Vim\u5728Makefile\u6703\u51fa\u73fetab\u9375\u7684Prob\u2026\u53ef\u4ee5\u5728/etc/vim/vimrc\u7684\u6a94\u6848\u4e2d\u52a0\u5165\u4e0b\u5217command\n",
      "\n",
      "    let _curfile = expand(\"%:t\")\n",
      "    if _curfile =~ \"Makefile\" || _curfile =~ \"makefile\" || _curfile =~ \".*\\.mk\"\n",
      "    set noexpandtab\n",
      "    else\n",
      "    set expandtab\n",
      "    set tabstop=4\n",
      "    set shiftwidth=4\n",
      "    endif"
     ]
    },
    {
     "cell_type": "code",
     "collapsed": false,
     "input": [],
     "language": "python",
     "metadata": {},
     "outputs": []
    }
   ],
   "metadata": {}
  }
 ]
}