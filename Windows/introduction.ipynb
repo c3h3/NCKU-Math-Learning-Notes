{
 "metadata": {
  "name": "",
  "signature": "sha256:1f10830c4beb414b14824539eeee0c36ab0e92bfba9b3bece6e2ba30f152050e"
 },
 "nbformat": 3,
 "nbformat_minor": 0,
 "worksheets": [
  {
   "cells": [
    {
     "cell_type": "markdown",
     "metadata": {},
     "source": [
      "### Installation for windows\n",
      "============================\n",
      "- \u4e0b\u8f09 Python 2.7.6, https://www.python.org/download/releases/2.7.6/\n",
      "<img src=python_download.jpg width=600>\n",
      "- Modify PATH: \u52a0\u5165 Python \u7684 PATH\uff0c\u6709\u5169\u500b\uff0c\u4e00\u500b\u662fPython\u7684\u76ee\u9304\uff0c\u4e00\u500b\u662fScripts\n",
      "<table>\n",
      "<tr><td><img src=system_property.jpg width=300></td><td><img src=set_path.jpg width=300></td></tr>\n",
      "</table>\n",
      "- Fix [mimetype.py](http://bugs.python.org/review/9291/diff/1663/Lib/mimetypes.py). You can also download [my version](mimetypes.py).\n",
      "<img src=mimetype_fix.jpg width=600>\n",
      "- Get [pip](http://pip.readthedocs.org/en/latest/installing.html)\n",
      "    * \u4e0b\u8f09 get-pip.py (\u53f3\u9375\u53e6\u5b58\u65b0\u6a94)\n",
      "    * \u900f\u904e\u547d\u4ee4\u5217\u57f7\u884c python get-pip.py\n",
      "- Use pip to install pyzmq, jinja2, tornado.\n",
      "    * pip install \u5957\u4ef6\u540d\u7a31\n",
      "- Get: [git](http://msysgit.github.io/) \n",
      "- Get: ipython\n",
      "    * Open CMD.exe\n",
      "    * Go to some directory. \n",
      "    * git clone https://github.com/ipython/ipython.git\n",
      "    * cd ipython\n",
      "    * python setup.py install\n"
     ]
    },
    {
     "cell_type": "markdown",
     "metadata": {},
     "source": [
      "##Basical Command\n",
      "- git clone \"reponsitory website\"\n",
      "- git status\n",
      "- git add -i\n",
      "- git commit -m \"project\"\n",
      "- git push -u origin master\n",
      "- git config --global user.email \"you@example.com\" (\u8a2d\u5b9aemail)\n",
      "- git config --global user.name \"Your Name\" (\u8a2d\u5b9auser name)"
     ]
    },
    {
     "cell_type": "markdown",
     "metadata": {},
     "source": [
      "# Markdown \u8a9e\u6cd5\n",
      "\n",
      "\u8acb\u5230\u9019\u500b\u7db2\u7ad9: [Markdown](http://markdown.tw/) \u67e5\u4e00\u4e0b\uff0c\u628a\u4e00\u4e9b\u5e38\u7528\u7684\u52a0\u9032\u4f86\u3002"
     ]
    },
    {
     "cell_type": "markdown",
     "metadata": {},
     "source": [
      "\u628a ipython notebook \u505c\u4e0b\u4f86\u7684\u65b9\u6cd5 'ctrl + break'"
     ]
    },
    {
     "cell_type": "markdown",
     "metadata": {},
     "source": [
      "# \u5b89\u88dd\u5269\u4e0b\u7684\u5957\u4ef6\n",
      "\u5148\u5b89\u88dd vs2008 express: http://download.microsoft.com/download/E/8/E/E8EEB394-7F42-4963-A2D8-29559B738298/VS2008ExpressWithSP1ENUX1504728.iso"
     ]
    },
    {
     "cell_type": "markdown",
     "metadata": {},
     "source": [
      "\u8981\u8b93\u4e0b\u9762\u7684\u53ef\u4ee5\u52d5\uff0c\u81f3\u5c11\u9084\u8981\u518d\u88dd numpy + matplotlib + pyparsin + six\n",
      "\u8981\u627e Packages windows \u7684 pip \u901a\u5e38\u52d5\u4e0d\u4e86\u3002\u5c24\u5176\u662f 64bit \u7684\u90e8\u5206\uff0c\u88dd\u4e86\u4e0a\u9762\u7684 vs2008 \u53ea\u6709 32bit \u7684 compiler\uff0c\u6839\u672c\u52d5\u4e0d\u4e86\u3002\n",
      "\u6240\u4ee5\uff0c\u9084\u662f\u5230 http://www.lfd.uci.edu/~gohlke/pythonlibs/ \u628a\u60f3\u88dd\u7684 package \u88dd\u4e86\u5427\u3002"
     ]
    },
    {
     "cell_type": "code",
     "collapsed": false,
     "input": [
      "%pylab inline\n",
      "N = 100\n",
      "x = arange(0, 2*pi, 2*pi/N)\n",
      "plot(x, sin(x), 'r', x, cos(x), 'b')"
     ],
     "language": "python",
     "metadata": {},
     "outputs": [
      {
       "output_type": "stream",
       "stream": "stdout",
       "text": [
        "Populating the interactive namespace from numpy and matplotlib\n"
       ]
      },
      {
       "metadata": {},
       "output_type": "pyout",
       "prompt_number": 40,
       "text": [
        "[<matplotlib.lines.Line2D at 0xcd7fd68>,\n",
        " <matplotlib.lines.Line2D at 0xcd7ff98>]"
       ]
      },
      {
       "metadata": {},
       "output_type": "display_data",
       "png": "[encoded data removed]",
       "text": [
        "<matplotlib.figure.Figure at 0xcab2208>"
       ]
      }
     ],
     "prompt_number": 40
    },
    {
     "cell_type": "code",
     "collapsed": false,
     "input": [
      "from sympy import *\n",
      "t = Symbol('t')\n",
      "integrate(t*sin(t),t)"
     ],
     "language": "python",
     "metadata": {},
     "outputs": [
      {
       "metadata": {},
       "output_type": "pyout",
       "prompt_number": 27,
       "text": [
        "-t*cos(t) + sin(t)"
       ]
      }
     ],
     "prompt_number": 27
    },
    {
     "cell_type": "code",
     "collapsed": false,
     "input": [
      "series(sin(t),t)"
     ],
     "language": "python",
     "metadata": {},
     "outputs": [
      {
       "metadata": {},
       "output_type": "pyout",
       "prompt_number": 28,
       "text": [
        "t - t**3/6 + t**5/120 + O(t**6)"
       ]
      }
     ],
     "prompt_number": 28
    },
    {
     "cell_type": "code",
     "collapsed": false,
     "input": [],
     "language": "python",
     "metadata": {},
     "outputs": [],
     "prompt_number": 40
    },
    {
     "cell_type": "code",
     "collapsed": false,
     "input": [],
     "language": "python",
     "metadata": {},
     "outputs": []
    }
   ],
   "metadata": {}
  }
 ]
}